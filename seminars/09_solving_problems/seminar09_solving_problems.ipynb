{
 "cells": [
  {
   "cell_type": "markdown",
   "id": "7be638b6-71c9-4dc9-ad14-9a62a4d2c415",
   "metadata": {},
   "source": [
    "# 09. Как решать задачи"
   ]
  },
  {
   "cell_type": "markdown",
   "metadata": {},
   "source": [
    "**Отладка нейронных сетей**\n",
    "\n",
    "**TL;DR**: нужно найти и исправить всё что не так. \n",
    "\n",
    "Правила игры:\n",
    "- Нельзя добавлять новые параметры в сеть; нельзя менять существующие параметры, т.е. конфигурации свёрточных и линейных слоёв.\n",
    "- Читать примеры обучения сетки на пайторче/отдельные куски на стековерфлоу против правил.\n",
    "- Можно читать документацию к функциям :)\n",
    "- Количество эпох увеличивать нельзя. *25 эпох хватит всем*.\n",
    "\n",
    "<img src=\"https://raw.githubusercontent.com/senya-ashukha/senya-ashukha.github.io/master/projects/teaching/dasha.jpg\" style=\"width: 10%;\">\n",
    "\n",
    "### Будем работать с датасетом Fashion-MNIST\n"
   ]
  },
  {
   "cell_type": "code",
   "execution_count": null,
   "metadata": {},
   "outputs": [],
   "source": [
    "# Стандартные импорты\n",
    "import numpy as np\n",
    "import torch\n",
    "import torch.nn as nn\n",
    "import torch.nn.functional as F\n",
    "import torch.optim as optim\n",
    "from torchvision import datasets, transforms\n",
    "from torch.optim.lr_scheduler import StepLR"
   ]
  },
  {
   "cell_type": "code",
   "execution_count": null,
   "metadata": {},
   "outputs": [
    {
     "name": "stdout",
     "output_type": "stream",
     "text": [
      "Populating the interactive namespace from numpy and matplotlib\n"
     ]
    }
   ],
   "source": [
    "# Импорты матплотлиба\n",
    "import matplotlib.pyplot as plt\n",
    "%pylab inline\n",
    "plt.rcParams['figure.figsize'] = [6.0, 4.0]\n",
    "plt.rcParams['figure.dpi'] = 100"
   ]
  },
  {
   "cell_type": "code",
   "execution_count": null,
   "metadata": {},
   "outputs": [],
   "source": [
    "# Тут багов точно нет\n",
    "from logger import Logger"
   ]
  },
  {
   "cell_type": "code",
   "execution_count": null,
   "metadata": {},
   "outputs": [],
   "source": [
    "class Net(nn.Module):\n",
    "    def __init__(self):\n",
    "        super(Net, self).__init__()\n",
    "        self.conv1 = nn.Conv2d(1, 32, 3, 1)\n",
    "        self.conv2 = nn.Conv2d(32, 64, 3, 1)\n",
    "        self.fc1 = nn.Linear(9216, 128)\n",
    "        self.fc2 = nn.Linear(128, 10)\n",
    "        self.dropout1 = nn.Dropout2d(0.9)\n",
    "        self.dropout2 = nn.Dropout2d(0.9)\n",
    "        self.bn1 = nn.BatchNorm2d(32)\n",
    "        self.bn2 = nn.BatchNorm2d(64)\n",
    "        self.bn3 = nn.BatchNorm1d(128)\n",
    "\n",
    "    def forward(self, x):\n",
    "        x = self.conv1(x)\n",
    "        x = self.bn1(x) \n",
    "        x = self.conv2(x)\n",
    "        x = self.bn2(x)\n",
    "        x = F.max_pool2d(x, 2)\n",
    "        x = self.dropout1(x)\n",
    "        x = torch.flatten(x, 1)\n",
    "        x = self.fc1(x)\n",
    "        x = self.bn3(x) \n",
    "        x = F.relu(x)\n",
    "        x = self.dropout2(x)\n",
    "        x = self.fc2(x)\n",
    "        x = F.relu(x)\n",
    "        return x"
   ]
  },
  {
   "cell_type": "code",
   "execution_count": null,
   "metadata": {},
   "outputs": [],
   "source": [
    "def weights_init(m):\n",
    "  if isinstance(m, nn.Conv2d) or isinstance(m, nn.Linear):\n",
    "    torch.nn.init.constant_(m.weight.data, 0)     \n",
    "    torch.nn.init.constant_(m.bias.data, 0)"
   ]
  },
  {
   "cell_type": "code",
   "execution_count": null,
   "metadata": {},
   "outputs": [],
   "source": [
    "def train(args, model, device, train_loader, optimizer):\n",
    "    global logger, epoch\n",
    "    mean_loss = 0.0\n",
    "    correct = 0\n",
    "    for batch_idx, (data, target) in enumerate(train_loader):\n",
    "        data, target = data.to(device), target.to(device)\n",
    "        output = model(data)\n",
    "        loss = F.nll_loss(output, target)\n",
    "        loss.backward()\n",
    "        optimizer.step()\n",
    "        mean_loss += len(data)/len(train_loader.dataset) * loss.item()\n",
    "        with torch.no_grad():\n",
    "            pred = output.argmax(dim=1, keepdim=True)  \n",
    "            correct += pred.eq(target.view_as(pred)).sum().item()\n",
    "    logger.add_scalar(epoch, 'train_loss',  mean_loss)\n",
    "    logger.add_scalar(epoch, 'train_acc',  100. * correct / len(train_loader.dataset))"
   ]
  },
  {
   "cell_type": "code",
   "execution_count": null,
   "metadata": {},
   "outputs": [],
   "source": [
    "def test(model, device, test_loader):\n",
    "    global logger, epoch\n",
    "    test_loss = 0\n",
    "    correct = 0\n",
    "    with torch.no_grad():\n",
    "        for data, target in test_loader:\n",
    "            data, target = data.to(device), target.to(device)\n",
    "            output = model(data)\n",
    "            test_loss += F.nll_loss(output, target, reduction='sum').item()  # sum up batch loss\n",
    "            pred = output.argmax(dim=1, keepdim=True)  # get the index of the max log-probability\n",
    "            correct += pred.eq(target.view_as(pred)).sum().item()\n",
    "\n",
    "    test_loss /= len(test_loader.dataset)\n",
    "\n",
    "    logger.add_scalar(epoch, 'test_loss', test_loss)\n",
    "    logger.add_scalar(epoch, 'test_acc',  100. * correct / len(test_loader.dataset))"
   ]
  },
  {
   "cell_type": "code",
   "execution_count": null,
   "metadata": {},
   "outputs": [
    {
     "name": "stdout",
     "output_type": "stream",
     "text": [
      "args: namespace(batch_size=128, epochs=25, gamma=0.1, log_interval=2, lr=0.001, no_cuda=False, test_batch_size=1000)\n"
     ]
    }
   ],
   "source": [
    "from types import SimpleNamespace\n",
    "\n",
    "args = {\n",
    "  'batch_size': 128,\n",
    "  'test_batch_size': 1000,\n",
    "  'epochs': 25,\n",
    "  'lr': 1e-3,\n",
    "  'gamma': 0.1,\n",
    "  'no_cuda': False,\n",
    "  'log_interval': 2,\n",
    "}\n",
    "args = SimpleNamespace(**args)\n",
    "print('args:', args)"
   ]
  },
  {
   "cell_type": "code",
   "execution_count": null,
   "metadata": {},
   "outputs": [],
   "source": [
    "use_cuda = not args.no_cuda and torch.cuda.is_available()\n",
    "device = torch.device(\"cuda\" if use_cuda else \"cpu\")"
   ]
  },
  {
   "cell_type": "code",
   "execution_count": null,
   "metadata": {},
   "outputs": [
    {
     "name": "stdout",
     "output_type": "stream",
     "text": [
      "Downloading http://fashion-mnist.s3-website.eu-central-1.amazonaws.com/train-images-idx3-ubyte.gz to ../data/FashionMNIST/raw/train-images-idx3-ubyte.gz\n"
     ]
    },
    {
     "data": {
      "application/vnd.jupyter.widget-view+json": {
       "model_id": "8a6f52b1981043d089df853b8975e9c8",
       "version_major": 2,
       "version_minor": 0
      },
      "text/plain": [
       "HBox(children=(FloatProgress(value=1.0, bar_style='info', max=1.0), HTML(value='')))"
      ]
     },
     "metadata": {},
     "output_type": "display_data"
    },
    {
     "name": "stdout",
     "output_type": "stream",
     "text": [
      "Extracting ../data/FashionMNIST/raw/train-images-idx3-ubyte.gz to ../data/FashionMNIST/raw\n",
      "Downloading http://fashion-mnist.s3-website.eu-central-1.amazonaws.com/train-labels-idx1-ubyte.gz to ../data/FashionMNIST/raw/train-labels-idx1-ubyte.gz\n"
     ]
    },
    {
     "data": {
      "application/vnd.jupyter.widget-view+json": {
       "model_id": "c996183625c540ff84c84662b1e424d0",
       "version_major": 2,
       "version_minor": 0
      },
      "text/plain": [
       "HBox(children=(FloatProgress(value=1.0, bar_style='info', max=1.0), HTML(value='')))"
      ]
     },
     "metadata": {},
     "output_type": "display_data"
    },
    {
     "name": "stdout",
     "output_type": "stream",
     "text": [
      "Extracting ../data/FashionMNIST/raw/train-labels-idx1-ubyte.gz to ../data/FashionMNIST/raw\n",
      "Downloading http://fashion-mnist.s3-website.eu-central-1.amazonaws.com/t10k-images-idx3-ubyte.gz to ../data/FashionMNIST/raw/t10k-images-idx3-ubyte.gz\n",
      "\n"
     ]
    },
    {
     "data": {
      "application/vnd.jupyter.widget-view+json": {
       "model_id": "093e2964230e4b16ba9807fbaa750cc6",
       "version_major": 2,
       "version_minor": 0
      },
      "text/plain": [
       "HBox(children=(FloatProgress(value=1.0, bar_style='info', max=1.0), HTML(value='')))"
      ]
     },
     "metadata": {},
     "output_type": "display_data"
    },
    {
     "name": "stdout",
     "output_type": "stream",
     "text": [
      "Extracting ../data/FashionMNIST/raw/t10k-images-idx3-ubyte.gz to ../data/FashionMNIST/raw\n",
      "Downloading http://fashion-mnist.s3-website.eu-central-1.amazonaws.com/t10k-labels-idx1-ubyte.gz to ../data/FashionMNIST/raw/t10k-labels-idx1-ubyte.gz\n"
     ]
    },
    {
     "data": {
      "application/vnd.jupyter.widget-view+json": {
       "model_id": "8989e0e24b4949abb690e205a8afb697",
       "version_major": 2,
       "version_minor": 0
      },
      "text/plain": [
       "HBox(children=(FloatProgress(value=1.0, bar_style='info', max=1.0), HTML(value='')))"
      ]
     },
     "metadata": {},
     "output_type": "display_data"
    },
    {
     "name": "stdout",
     "output_type": "stream",
     "text": [
      "Extracting ../data/FashionMNIST/raw/t10k-labels-idx1-ubyte.gz to ../data/FashionMNIST/raw\n",
      "Processing...\n",
      "Done!\n"
     ]
    },
    {
     "name": "stderr",
     "output_type": "stream",
     "text": [
      "/usr/local/lib/python3.6/dist-packages/torchvision/datasets/mnist.py:469: UserWarning: The given NumPy array is not writeable, and PyTorch does not support non-writeable tensors. This means you can write to the underlying (supposedly non-writeable) NumPy array using the tensor. You may want to copy the array to protect its data or make it writeable before converting it to a tensor. This type of warning will be suppressed for the rest of this program. (Triggered internally at  /pytorch/torch/csrc/utils/tensor_numpy.cpp:141.)\n",
      "  return torch.from_numpy(parsed.astype(m[2], copy=False)).view(*s)\n"
     ]
    },
    {
     "name": "stdout",
     "output_type": "stream",
     "text": [
      "\n",
      "\n",
      "\n"
     ]
    },
    {
     "data": {
      "image/png": "[encoded data removed]",
      "text/plain": [
       "<Figure size 600x400 with 1 Axes>"
      ]
     },
     "metadata": {},
     "output_type": "display_data"
    },
    {
     "name": "stdout",
     "output_type": "stream",
     "text": [
      "['T-shirt/top', 'Trouser', 'Pullover', 'Dress', 'Coat', 'Sandal', 'Shirt', 'Sneaker', 'Bag', 'Ankle boot']\n"
     ]
    },
    {
     "data": {
      "image/png": "[encoded data removed]",
      "text/plain": [
       "<Figure size 600x400 with 1 Axes>"
      ]
     },
     "metadata": {},
     "output_type": "display_data"
    },
    {
     "name": "stdout",
     "output_type": "stream",
     "text": [
      "['T-shirt/top', 'Trouser', 'Pullover', 'Dress', 'Coat', 'Sandal', 'Shirt', 'Sneaker', 'Bag', 'Ankle boot']\n"
     ]
    },
    {
     "data": {
      "image/png": "[encoded data removed]",
      "text/plain": [
       "<Figure size 600x400 with 1 Axes>"
      ]
     },
     "metadata": {},
     "output_type": "display_data"
    },
    {
     "name": "stdout",
     "output_type": "stream",
     "text": [
      "['T-shirt/top', 'Trouser', 'Pullover', 'Dress', 'Coat', 'Sandal', 'Shirt', 'Sneaker', 'Bag', 'Ankle boot']\n"
     ]
    }
   ],
   "source": [
    "transform=transforms.Compose([\n",
    "    transforms.RandomResizedCrop(28),\n",
    "    transforms.ToTensor(),\n",
    "    transforms.Normalize((0.1307,), (0.3081,))\n",
    "])\n",
    "\n",
    "train_dataset = datasets.FashionMNIST(\n",
    "    '../data', train=True, download=True, transform=transform)\n",
    "train_loader = torch.utils.data.DataLoader(\n",
    "    train_dataset, \n",
    "    num_workers=5, \n",
    "    batch_size=args.batch_size)\n",
    "\n",
    "test_dataset = datasets.FashionMNIST(\n",
    "    '../data', train=False, transform=transform)\n",
    "test_loader = torch.utils.data.DataLoader(\n",
    "    train_dataset, \n",
    "    num_workers=5, \n",
    "    batch_size=args.test_batch_size)\n",
    "\n",
    "plt.imshow(train_dataset.data[0], cmap='gray')\n",
    "plt.show()\n",
    "print(train_dataset.classes)\n",
    "\n",
    "plt.imshow(train_dataset.data[1], cmap='gray')\n",
    "plt.show()\n",
    "print(train_dataset.classes)\n",
    "\n",
    "plt.imshow(train_dataset.data[3], cmap='gray')\n",
    "plt.show()\n",
    "print(train_dataset.classes)"
   ]
  },
  {
   "cell_type": "code",
   "execution_count": null,
   "metadata": {},
   "outputs": [
    {
     "name": "stdout",
     "output_type": "stream",
     "text": [
      "  epoch       lr    train_loss    train_acc    test_loss    test_acc\n",
      "-------  -------  ------------  -----------  -----------  ----------\n",
      "      1  1.0e-03         0.000         10.0        0.000      10.000\n",
      "      2  1.0e-04         0.000         10.0        0.000      10.000\n",
      "      4  1.0e-06         0.000         10.0        0.000      10.000\n",
      "      6  1.0e-08         0.000         10.0        0.000      10.000\n",
      "      8  1.0e-10         0.000         10.0        0.000      10.000\n",
      "     10  1.0e-12         0.000         10.0        0.000      10.000\n",
      "     12  1.0e-14         0.000         10.0        0.000      10.000\n",
      "     14  1.0e-16         0.000         10.0        0.000      10.000\n",
      "     16  1.0e-18         0.000         10.0        0.000      10.000\n",
      "     18  1.0e-20         0.000         10.0        0.000      10.000\n",
      "     20  1.0e-22         0.000         10.0        0.000      10.000\n",
      "     22  1.0e-24         0.000         10.0        0.000      10.000\n",
      "     24  1.0e-26         0.000         10.0        0.000      10.000\n"
     ]
    }
   ],
   "source": [
    "fmt = {'test_loss': '.3f', 'test_acc': '.3f', 'train_loss': '.3f', 'lr': '1.1e'}\n",
    "logger = Logger('sparse_vd', fmt=fmt)\n",
    "\n",
    "model = Net().to(device).train()\n",
    "model = model.apply(weights_init)\n",
    "optimizer = optim.SGD(model.parameters(), lr=args.lr)\n",
    "scheduler = StepLR(optimizer, step_size=1, gamma=args.gamma)\n",
    "\n",
    "for epoch in range(1, args.epochs + 1):\n",
    "    logger.add_scalar(epoch, 'lr', scheduler.get_last_lr()[0])\n",
    "    train(args, model, device, train_loader, optimizer)\n",
    "    test(model, device, test_loader)\n",
    "    scheduler.step()\n",
    "    if epoch % args.log_interval == 0 or epoch==1:\n",
    "      logger.iter_info()"
   ]
  },
  {
   "cell_type": "code",
   "execution_count": null,
   "metadata": {},
   "outputs": [
    {
     "data": {
      "text/plain": [
       "<matplotlib.legend.Legend at 0x7fd5199037b8>"
      ]
     },
     "metadata": {},
     "output_type": "display_data"
    },
    {
     "data": {
      "image/png": "[encoded data removed]",
      "text/plain": [
       "<Figure size 600x400 with 1 Axes>"
      ]
     },
     "metadata": {},
     "output_type": "display_data"
    }
   ],
   "source": [
    "# Plot train and test loss\n",
    "train_loss = np.array(logger.scalar_metrics['train_loss'])[:,1]\n",
    "plt.plot(train_loss, 'o-', label='train_loss')\n",
    "\n",
    "test_loss = np.array(logger.scalar_metrics['test_loss'])[:,1]\n",
    "plt.plot(test_loss, 'o-', label='test_loss')\n",
    "\n",
    "plt.plot([0.21]*len(train_loss), '-', label='you win (for test)', c='r')\n",
    "\n",
    "plt.grid(True)\n",
    "plt.ylabel('Loss')\n",
    "plt.xlabel('# epoch')\n",
    "plt.legend()"
   ]
  },
  {
   "cell_type": "code",
   "execution_count": null,
   "metadata": {},
   "outputs": [
    {
     "data": {
      "text/plain": [
       "<matplotlib.legend.Legend at 0x7fd51bb446d8>"
      ]
     },
     "metadata": {},
     "output_type": "display_data"
    },
    {
     "data": {
      "image/png": "[encoded data removed]",
      "text/plain": [
       "<Figure size 600x400 with 1 Axes>"
      ]
     },
     "metadata": {},
     "output_type": "display_data"
    }
   ],
   "source": [
    "# Plot train and test accuracy\n",
    "train_acc = np.array(logger.scalar_metrics['train_acc'])[:,1]\n",
    "plt.plot(train_acc, 'o-', label='train_acc')\n",
    "\n",
    "test_acc = np.array(logger.scalar_metrics['test_acc'])[:,1]\n",
    "plt.plot(test_acc, 'o-', label='test_acc')\n",
    "\n",
    "plt.plot([93.5]*len(train_acc), '-', label='you win (for test)', c='r')\n",
    "\n",
    "plt.grid(True)\n",
    "plt.ylabel('Accuracy (%)')\n",
    "plt.xlabel('# epoch')\n",
    "plt.legend()"
   ]
  },
  {
   "cell_type": "code",
   "execution_count": null,
   "metadata": {},
   "outputs": [
    {
     "data": {
      "text/plain": [
       "<matplotlib.legend.Legend at 0x7fd51c09f780>"
      ]
     },
     "metadata": {},
     "output_type": "display_data"
    },
    {
     "data": {
      "image/png": "[encoded data removed]",
      "text/plain": [
       "<Figure size 600x400 with 1 Axes>"
      ]
     },
     "metadata": {},
     "output_type": "display_data"
    }
   ],
   "source": [
    "# Plot learning rate\n",
    "train_loss = np.array(logger.scalar_metrics['lr'])[:,1]\n",
    "plt.plot(train_loss, 'o-', label='lr')\n",
    "\n",
    "plt.grid(True)\n",
    "plt.ylabel('Accuracy (%)')\n",
    "plt.xlabel('# epoch')\n",
    "plt.legend()"
   ]
  }
 ],
 "metadata": {
  "kernelspec": {
   "display_name": "Python 3 (ipykernel)",
   "language": "python",
   "name": "python3"
  },
  "language_info": {
   "codemirror_mode": {
    "name": "ipython",
    "version": 3
   },
   "file_extension": ".py",
   "mimetype": "text/x-python",
   "name": "python",
   "nbconvert_exporter": "python",
   "pygments_lexer": "ipython3",
   "version": "3.9.7"
  }
 },
 "nbformat": 4,
 "nbformat_minor": 5
}
