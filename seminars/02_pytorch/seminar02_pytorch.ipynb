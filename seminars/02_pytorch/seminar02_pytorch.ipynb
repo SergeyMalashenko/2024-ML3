{
 "cells": [
  {
   "cell_type": "markdown",
   "metadata": {
    "id": "TDm6dCbbPfGy"
   },
   "source": [
    "# 02. Библиотека PyTorch"
   ]
  },
  {
   "cell_type": "markdown",
   "metadata": {
    "id": "MlRU0ZTkPs7_"
   },
   "source": [
    "## План\n",
    "1. `numpy` -> `pytorch`\n",
    "2. Автоматическое дифференцирование (`torch.autograd`)\n",
    "3. Пример: задача регрессии\n",
    "4. Переопределение `backward()`\n"
   ]
  },
  {
   "cell_type": "markdown",
   "metadata": {},
   "source": [
    "[PyTorch](https://pytorch.org) - это фреймворк для машинного обучения:\n",
    "* В первую очередь - для нейросетевых моделей\n",
    "* Большие возможности для работы с тензорами\n",
    "* Поддержка выполнения на CPU / GPU / TPU ([!](https://github.com/pytorch/xla))\n",
    "* Автоматическое дифференцирование вычислительных графов (`torch.autograd`)\n",
    "* Широкий набор строительных блоков для DL-моделей (`torch.nn`) и готовых архитектур (`torchvision.models`+)\n",
    "* Удобная поддержка реализации своих операций / слоев / функций потерь / ..."
   ]
  },
  {
   "cell_type": "raw",
   "metadata": {},
   "source": [
    "!pip install torch  \n",
    "# or goto https://pytorch.org/get-started/locally/"
   ]
  },
  {
   "cell_type": "markdown",
   "metadata": {
    "tags": []
   },
   "source": [
    "## 1. `numpy` <-> `pytorch`"
   ]
  },
  {
   "cell_type": "code",
   "execution_count": 1,
   "metadata": {},
   "outputs": [],
   "source": [
    "import torch\n",
    "import numpy as np\n",
    "import time"
   ]
  },
  {
   "cell_type": "markdown",
   "metadata": {
    "tags": [],
    "toc-hr-collapsed": true
   },
   "source": [
    "### 1.1. Работа с тензорами"
   ]
  },
  {
   "cell_type": "markdown",
   "metadata": {},
   "source": [
    "~Все, что можно делать с многомерными массивами в `numpy`, можно делать и в `pytorch`:\n",
    "* `np.ndarray` -> `torch.Tensor`\n",
    "    * [broadcasting](https://numpy.org/doc/stable/user/basics.broadcasting.html)\n",
    "* `np.zeros()` -> `torch.zeros()`\n",
    "* `np.stack()` -> `torch.stack()`\n",
    "* `np.concatenate` -> `torch.cat()` \n",
    "* `np.random.normal()` -> `torch.randn()`\n",
    "* ..."
   ]
  },
  {
   "cell_type": "markdown",
   "metadata": {},
   "source": [
    "#### `np.ndarray` <-> `torch.Tensor`"
   ]
  },
  {
   "cell_type": "code",
   "execution_count": 2,
   "metadata": {},
   "outputs": [
    {
     "data": {
      "text/plain": [
       "(3, 3)"
      ]
     },
     "execution_count": 2,
     "metadata": {},
     "output_type": "execute_result"
    }
   ],
   "source": [
    "data_np = np.random.uniform(size=(3, 3))\n",
    "data_np.shape"
   ]
  },
  {
   "cell_type": "code",
   "execution_count": 3,
   "metadata": {},
   "outputs": [
    {
     "data": {
      "text/plain": [
       "array([[0.58582282, 0.27264605, 0.91124672],\n",
       "       [0.59180952, 0.01032347, 0.31205208],\n",
       "       [0.33009217, 0.4861838 , 0.19735524]])"
      ]
     },
     "execution_count": 3,
     "metadata": {},
     "output_type": "execute_result"
    }
   ],
   "source": [
    "data_np"
   ]
  },
  {
   "cell_type": "markdown",
   "metadata": {},
   "source": [
    "Создание тензора из данных в форме `numpy.ndarray` через [`torch.from_numpy()`](https://pytorch.org/docs/stable/generated/torch.from_numpy.html):"
   ]
  },
  {
   "cell_type": "code",
   "execution_count": 4,
   "metadata": {},
   "outputs": [
    {
     "data": {
      "text/plain": [
       "torch.Size([3, 3])"
      ]
     },
     "execution_count": 4,
     "metadata": {},
     "output_type": "execute_result"
    }
   ],
   "source": [
    "data_pt = torch.from_numpy(data_np)\n",
    "data_pt.shape"
   ]
  },
  {
   "cell_type": "code",
   "execution_count": 5,
   "metadata": {},
   "outputs": [
    {
     "data": {
      "text/plain": [
       "array([[ True,  True,  True],\n",
       "       [ True,  True,  True],\n",
       "       [ True,  True,  True]])"
      ]
     },
     "execution_count": 5,
     "metadata": {},
     "output_type": "execute_result"
    }
   ],
   "source": [
    "data_np == data_pt.numpy()  # <- get data from Tensor as numpy array"
   ]
  },
  {
   "cell_type": "code",
   "execution_count": 6,
   "metadata": {},
   "outputs": [
    {
     "data": {
      "text/plain": [
       "dtype('float64')"
      ]
     },
     "execution_count": 6,
     "metadata": {},
     "output_type": "execute_result"
    }
   ],
   "source": [
    "data_np.dtype"
   ]
  },
  {
   "cell_type": "code",
   "execution_count": 7,
   "metadata": {},
   "outputs": [
    {
     "data": {
      "text/plain": [
       "torch.float64"
      ]
     },
     "execution_count": 7,
     "metadata": {},
     "output_type": "execute_result"
    }
   ],
   "source": [
    "data_pt.dtype"
   ]
  },
  {
   "cell_type": "markdown",
   "metadata": {},
   "source": [
    "Важно: при создании тензора через `torch.from_numpy()` данные шарятся между объектами:"
   ]
  },
  {
   "cell_type": "code",
   "execution_count": 8,
   "metadata": {},
   "outputs": [
    {
     "data": {
      "text/plain": [
       "tensor([[-999.4142, -999.7274, -999.0888],\n",
       "        [-999.4082, -999.9897, -999.6879],\n",
       "        [-999.6699, -999.5138, -999.8026]], dtype=torch.float64)"
      ]
     },
     "execution_count": 8,
     "metadata": {},
     "output_type": "execute_result"
    }
   ],
   "source": [
    "t = data_pt.numpy() \n",
    "t -= 1000\n",
    "data_pt"
   ]
  },
  {
   "cell_type": "code",
   "execution_count": 9,
   "metadata": {},
   "outputs": [
    {
     "data": {
      "text/plain": [
       "array([[-999.41417718, -999.72735395, -999.08875328],\n",
       "       [-999.40819048, -999.98967653, -999.68794792],\n",
       "       [-999.66990783, -999.5138162 , -999.80264476]])"
      ]
     },
     "execution_count": 9,
     "metadata": {},
     "output_type": "execute_result"
    }
   ],
   "source": [
    "data_np"
   ]
  },
  {
   "cell_type": "markdown",
   "metadata": {},
   "source": [
    "Создание тензора через конструктор `torch.tensor()`:"
   ]
  },
  {
   "cell_type": "code",
   "execution_count": 10,
   "metadata": {},
   "outputs": [
    {
     "data": {
      "text/plain": [
       "(3, 3)"
      ]
     },
     "execution_count": 10,
     "metadata": {},
     "output_type": "execute_result"
    }
   ],
   "source": [
    "data_np = np.random.uniform(size=(3, 3))\n",
    "data_np.shape"
   ]
  },
  {
   "cell_type": "code",
   "execution_count": 11,
   "metadata": {},
   "outputs": [
    {
     "data": {
      "text/plain": [
       "torch.Size([3, 3])"
      ]
     },
     "execution_count": 11,
     "metadata": {},
     "output_type": "execute_result"
    }
   ],
   "source": [
    "data_pt = torch.tensor(data_np)\n",
    "data_pt.shape"
   ]
  },
  {
   "cell_type": "code",
   "execution_count": 12,
   "metadata": {},
   "outputs": [
    {
     "data": {
      "text/plain": [
       "array([[ True,  True,  True],\n",
       "       [ True,  True,  True],\n",
       "       [ True,  True,  True]])"
      ]
     },
     "execution_count": 12,
     "metadata": {},
     "output_type": "execute_result"
    }
   ],
   "source": [
    "data_np == data_pt.numpy()"
   ]
  },
  {
   "cell_type": "markdown",
   "metadata": {},
   "source": [
    "При создании тензора через `torch.tensor()` данные копируются:"
   ]
  },
  {
   "cell_type": "code",
   "execution_count": 13,
   "metadata": {},
   "outputs": [
    {
     "data": {
      "text/plain": [
       "tensor([[-999.8934, -999.4392, -999.0630],\n",
       "        [-999.8656, -999.3295, -999.9436],\n",
       "        [-999.3608, -999.3369, -999.8809]], dtype=torch.float64)"
      ]
     },
     "execution_count": 13,
     "metadata": {},
     "output_type": "execute_result"
    }
   ],
   "source": [
    "t = data_pt.numpy()\n",
    "t -= 1000\n",
    "data_pt"
   ]
  },
  {
   "cell_type": "code",
   "execution_count": 14,
   "metadata": {},
   "outputs": [
    {
     "data": {
      "text/plain": [
       "array([[0.10660271, 0.56084246, 0.93695721],\n",
       "       [0.13439722, 0.67045439, 0.05637025],\n",
       "       [0.63922828, 0.66308223, 0.1191316 ]])"
      ]
     },
     "execution_count": 14,
     "metadata": {},
     "output_type": "execute_result"
    }
   ],
   "source": [
    "data_np"
   ]
  },
  {
   "cell_type": "markdown",
   "metadata": {},
   "source": [
    "**NB**: [`torch.Tensor()`](https://glaringlee.github.io/tensors.html?highlight=torch%20tensor#torch.Tensor) != [`torch.tensor()`](https://glaringlee.github.io/generated/torch.tensor.html?highlight=torch%20tensor#torch.tensor)!"
   ]
  },
  {
   "cell_type": "markdown",
   "metadata": {
    "tags": []
   },
   "source": [
    "#### Типы данных"
   ]
  },
  {
   "cell_type": "code",
   "execution_count": 15,
   "metadata": {},
   "outputs": [
    {
     "data": {
      "text/plain": [
       "dtype('float64')"
      ]
     },
     "execution_count": 15,
     "metadata": {},
     "output_type": "execute_result"
    }
   ],
   "source": [
    "data_np.dtype"
   ]
  },
  {
   "cell_type": "markdown",
   "metadata": {},
   "source": [
    "floats"
   ]
  },
  {
   "cell_type": "code",
   "execution_count": 16,
   "metadata": {},
   "outputs": [
    {
     "data": {
      "text/plain": [
       "torch.float64"
      ]
     },
     "execution_count": 16,
     "metadata": {},
     "output_type": "execute_result"
    }
   ],
   "source": [
    "data_pt = torch.tensor(data_np)\n",
    "data_pt.dtype"
   ]
  },
  {
   "cell_type": "code",
   "execution_count": 17,
   "metadata": {},
   "outputs": [
    {
     "data": {
      "text/plain": [
       "torch.float32"
      ]
     },
     "execution_count": 17,
     "metadata": {},
     "output_type": "execute_result"
    }
   ],
   "source": [
    "data_pt = torch.tensor(data_np, dtype=torch.float)\n",
    "data_pt.dtype"
   ]
  },
  {
   "cell_type": "code",
   "execution_count": 18,
   "metadata": {},
   "outputs": [
    {
     "data": {
      "text/plain": [
       "torch.float16"
      ]
     },
     "execution_count": 18,
     "metadata": {},
     "output_type": "execute_result"
    }
   ],
   "source": [
    "data_pt = torch.tensor(data_np, dtype=torch.float16)\n",
    "data_pt.dtype"
   ]
  },
  {
   "cell_type": "code",
   "execution_count": 19,
   "metadata": {},
   "outputs": [
    {
     "data": {
      "text/plain": [
       "torch.float16"
      ]
     },
     "execution_count": 19,
     "metadata": {},
     "output_type": "execute_result"
    }
   ],
   "source": [
    "data_pt = torch.tensor(data_np, dtype=torch.half)\n",
    "data_pt.dtype"
   ]
  },
  {
   "cell_type": "code",
   "execution_count": 20,
   "metadata": {},
   "outputs": [
    {
     "data": {
      "text/plain": [
       "torch.float64"
      ]
     },
     "execution_count": 20,
     "metadata": {},
     "output_type": "execute_result"
    }
   ],
   "source": [
    "data_pt = torch.tensor(data_np, dtype=torch.double)\n",
    "data_pt.dtype"
   ]
  },
  {
   "cell_type": "markdown",
   "metadata": {},
   "source": [
    "ints"
   ]
  },
  {
   "cell_type": "code",
   "execution_count": 21,
   "metadata": {},
   "outputs": [
    {
     "data": {
      "text/plain": [
       "torch.int32"
      ]
     },
     "execution_count": 21,
     "metadata": {},
     "output_type": "execute_result"
    }
   ],
   "source": [
    "data_pt = torch.tensor(data_np, dtype=torch.int)\n",
    "data_pt.dtype"
   ]
  },
  {
   "cell_type": "code",
   "execution_count": 22,
   "metadata": {},
   "outputs": [
    {
     "data": {
      "text/plain": [
       "torch.int64"
      ]
     },
     "execution_count": 22,
     "metadata": {},
     "output_type": "execute_result"
    }
   ],
   "source": [
    "data_pt = torch.tensor(data_np, dtype=torch.long)\n",
    "data_pt.dtype"
   ]
  },
  {
   "cell_type": "code",
   "execution_count": 23,
   "metadata": {},
   "outputs": [
    {
     "data": {
      "text/plain": [
       "torch.int8"
      ]
     },
     "execution_count": 23,
     "metadata": {},
     "output_type": "execute_result"
    }
   ],
   "source": [
    "data_pt = torch.tensor(data_np, dtype=torch.int8)\n",
    "data_pt.dtype"
   ]
  },
  {
   "cell_type": "markdown",
   "metadata": {},
   "source": [
    "Больше - [тут](https://pytorch.org/docs/stable/tensors.html)."
   ]
  },
  {
   "cell_type": "markdown",
   "metadata": {},
   "source": [
    "Можно и без `numpy`, разумеется:"
   ]
  },
  {
   "cell_type": "code",
   "execution_count": 24,
   "metadata": {},
   "outputs": [
    {
     "data": {
      "text/plain": [
       "tensor(2)"
      ]
     },
     "execution_count": 24,
     "metadata": {},
     "output_type": "execute_result"
    }
   ],
   "source": [
    "torch.tensor(2)"
   ]
  },
  {
   "cell_type": "code",
   "execution_count": 25,
   "metadata": {},
   "outputs": [
    {
     "data": {
      "text/plain": [
       "tensor([1, 2, 3, 4, 5])"
      ]
     },
     "execution_count": 25,
     "metadata": {},
     "output_type": "execute_result"
    }
   ],
   "source": [
    "torch.tensor([1, 2, 3, 4, 5])"
   ]
  },
  {
   "cell_type": "code",
   "execution_count": 26,
   "metadata": {},
   "outputs": [
    {
     "data": {
      "text/plain": [
       "tensor([[0., 1.],\n",
       "        [2., 3.]])"
      ]
     },
     "execution_count": 26,
     "metadata": {},
     "output_type": "execute_result"
    }
   ],
   "source": [
    "torch.tensor([[0., 1], [2, 3]])"
   ]
  },
  {
   "cell_type": "markdown",
   "metadata": {},
   "source": [
    "Если в тензоре один-единственный элемент, извлечь его численное значение можно через `.item()`:"
   ]
  },
  {
   "cell_type": "code",
   "execution_count": 27,
   "metadata": {},
   "outputs": [
    {
     "data": {
      "text/plain": [
       "10"
      ]
     },
     "execution_count": 27,
     "metadata": {},
     "output_type": "execute_result"
    }
   ],
   "source": [
    "x = torch.tensor(10)\n",
    "x.item()"
   ]
  },
  {
   "cell_type": "code",
   "execution_count": 28,
   "metadata": {},
   "outputs": [
    {
     "ename": "RuntimeError",
     "evalue": "a Tensor with 2 elements cannot be converted to Scalar",
     "output_type": "error",
     "traceback": [
      "\u001b[0;31m---------------------------------------------------------------------------\u001b[0m",
      "\u001b[0;31mRuntimeError\u001b[0m                              Traceback (most recent call last)",
      "Cell \u001b[0;32mIn[28], line 2\u001b[0m\n\u001b[1;32m      1\u001b[0m x \u001b[38;5;241m=\u001b[39m torch\u001b[38;5;241m.\u001b[39mtensor([\u001b[38;5;241m10\u001b[39m, \u001b[38;5;241m11\u001b[39m])\n\u001b[0;32m----> 2\u001b[0m \u001b[43mx\u001b[49m\u001b[38;5;241;43m.\u001b[39;49m\u001b[43mitem\u001b[49m\u001b[43m(\u001b[49m\u001b[43m)\u001b[49m\n",
      "\u001b[0;31mRuntimeError\u001b[0m: a Tensor with 2 elements cannot be converted to Scalar"
     ]
    }
   ],
   "source": [
    "x = torch.tensor([10, 11])\n",
    "x.item()"
   ]
  },
  {
   "cell_type": "markdown",
   "metadata": {},
   "source": [
    "**NB**: поведение конструкторов `torch.tensor()` и `torch.Tensor()` - разное:"
   ]
  },
  {
   "cell_type": "code",
   "execution_count": null,
   "metadata": {},
   "outputs": [],
   "source": [
    "torch.Tensor([1, 2, 3])"
   ]
  },
  {
   "cell_type": "code",
   "execution_count": null,
   "metadata": {},
   "outputs": [],
   "source": [
    "torch.Tensor(1)"
   ]
  },
  {
   "cell_type": "code",
   "execution_count": null,
   "metadata": {},
   "outputs": [],
   "source": [
    "torch.Tensor(2)"
   ]
  },
  {
   "cell_type": "markdown",
   "metadata": {
    "tags": []
   },
   "source": [
    "#### Broadcasting"
   ]
  },
  {
   "cell_type": "code",
   "execution_count": null,
   "metadata": {},
   "outputs": [],
   "source": [
    "data_np = np.random.uniform(size=(3, 3))\n",
    "data_pt = torch.from_numpy(data_np)\n",
    "data_pt"
   ]
  },
  {
   "cell_type": "code",
   "execution_count": null,
   "metadata": {},
   "outputs": [],
   "source": [
    "data_pt -= 100\n",
    "data_pt"
   ]
  },
  {
   "cell_type": "markdown",
   "metadata": {},
   "source": [
    "Обратите внимание на особенности broadcasting в \"неочевидных\" случаях (часто лучше перепроверить):"
   ]
  },
  {
   "cell_type": "code",
   "execution_count": null,
   "metadata": {},
   "outputs": [],
   "source": [
    "data_np = np.random.uniform(size=(3, 3)).astype(np.float32)\n",
    "data_pt = torch.from_numpy(data_np)\n",
    "data_pt"
   ]
  },
  {
   "cell_type": "code",
   "execution_count": null,
   "metadata": {},
   "outputs": [],
   "source": [
    "b = torch.Tensor([100, 50, 0])\n",
    "b.shape"
   ]
  },
  {
   "cell_type": "code",
   "execution_count": null,
   "metadata": {},
   "outputs": [],
   "source": [
    "data_pt + b"
   ]
  },
  {
   "cell_type": "code",
   "execution_count": null,
   "metadata": {},
   "outputs": [],
   "source": []
  },
  {
   "cell_type": "code",
   "execution_count": null,
   "metadata": {},
   "outputs": [],
   "source": [
    "b = torch.Tensor([100, 50, 0]).view(1, 3)\n",
    "b.shape"
   ]
  },
  {
   "cell_type": "code",
   "execution_count": null,
   "metadata": {},
   "outputs": [],
   "source": [
    "data_pt + b"
   ]
  },
  {
   "cell_type": "code",
   "execution_count": null,
   "metadata": {},
   "outputs": [],
   "source": []
  },
  {
   "cell_type": "code",
   "execution_count": null,
   "metadata": {},
   "outputs": [],
   "source": [
    "b = torch.Tensor([100, 50, 0]).view(3, 1)\n",
    "b.shape"
   ]
  },
  {
   "cell_type": "code",
   "execution_count": null,
   "metadata": {},
   "outputs": [],
   "source": [
    "data_pt + b"
   ]
  },
  {
   "cell_type": "markdown",
   "metadata": {},
   "source": [
    "#### Векторные и матричные операции"
   ]
  },
  {
   "cell_type": "code",
   "execution_count": null,
   "metadata": {},
   "outputs": [],
   "source": [
    "data_np = np.random.uniform(size=(16, 16))\n",
    "data_pt = torch.from_numpy(data_np)"
   ]
  },
  {
   "cell_type": "code",
   "execution_count": null,
   "metadata": {},
   "outputs": [],
   "source": [
    "%timeit data_np @ data_np"
   ]
  },
  {
   "cell_type": "code",
   "execution_count": null,
   "metadata": {},
   "outputs": [],
   "source": [
    "%timeit data_pt @ data_pt"
   ]
  },
  {
   "cell_type": "code",
   "execution_count": null,
   "metadata": {},
   "outputs": [],
   "source": []
  },
  {
   "cell_type": "code",
   "execution_count": null,
   "metadata": {},
   "outputs": [],
   "source": [
    "x = torch.randn(4, 1)\n",
    "A = torch.randn(8, 4)"
   ]
  },
  {
   "cell_type": "markdown",
   "metadata": {},
   "source": [
    "Умножение матрицы на вектор:"
   ]
  },
  {
   "cell_type": "code",
   "execution_count": null,
   "metadata": {},
   "outputs": [],
   "source": [
    "y = A @ x\n",
    "y.shape, y"
   ]
  },
  {
   "cell_type": "code",
   "execution_count": null,
   "metadata": {},
   "outputs": [],
   "source": [
    "y = A.matmul(x)\n",
    "y.shape, y"
   ]
  },
  {
   "cell_type": "markdown",
   "metadata": {},
   "source": [
    "Тоже повнимательнее с размерностями:"
   ]
  },
  {
   "cell_type": "code",
   "execution_count": null,
   "metadata": {},
   "outputs": [],
   "source": [
    "x = torch.randn(4)\n",
    "A = torch.randn(8, 4)"
   ]
  },
  {
   "cell_type": "code",
   "execution_count": null,
   "metadata": {},
   "outputs": [],
   "source": [
    "y = A @ x\n",
    "y.shape, y"
   ]
  },
  {
   "cell_type": "markdown",
   "metadata": {
    "tags": []
   },
   "source": [
    "#### Задание:"
   ]
  },
  {
   "cell_type": "markdown",
   "metadata": {},
   "source": [
    "* Даны два набора векторов одинаковой размерности, `X` (`m x dim`) и `Y` (`n x dim`)\n",
    "* Требуется посчитать (без циклов!) попарные значения косинуса углов для всех пар (`x`, `y`)\n",
    "    * На выходе ожидается матрица размером (`m x n`)"
   ]
  },
  {
   "cell_type": "code",
   "execution_count": null,
   "metadata": {},
   "outputs": [],
   "source": [
    "dim = 8\n",
    "m = 11\n",
    "n = 17\n",
    "X = torch.randn(m, dim)\n",
    "Y = torch.randn(n, dim)\n",
    "\n",
    "# YOUR CODE HERE\n",
    "X_n = X / torch.norm( X, dim = 1, keepdim=True)\n",
    "Y_n = Y / torch.norm( Y, dim = 1, keepdim=True)\n",
    "cos_mat = X_n @ Y_n.T\n",
    "\n",
    "# END OF YOUR CODE"
   ]
  },
  {
   "cell_type": "code",
   "execution_count": null,
   "metadata": {},
   "outputs": [],
   "source": [
    "from scipy.spatial.distance import cdist\n",
    "cos_mat_expected = 1 - cdist(X, Y, metric=\"cosine\")\n",
    "\n",
    "torch.testing.assert_allclose(cos_mat, cos_mat_expected)"
   ]
  },
  {
   "cell_type": "markdown",
   "metadata": {},
   "source": [
    "#### Работа с размерностями"
   ]
  },
  {
   "cell_type": "code",
   "execution_count": null,
   "metadata": {},
   "outputs": [],
   "source": [
    "x = torch.randn(3, 1)\n",
    "x.shape, x"
   ]
  },
  {
   "cell_type": "markdown",
   "metadata": {},
   "source": [
    "Транспонирование:"
   ]
  },
  {
   "cell_type": "code",
   "execution_count": null,
   "metadata": {},
   "outputs": [],
   "source": [
    "xT = x.T\n",
    "xT.shape, xT"
   ]
  },
  {
   "cell_type": "markdown",
   "metadata": {},
   "source": [
    "Если не указано явно, то данные НЕ копируются:"
   ]
  },
  {
   "cell_type": "code",
   "execution_count": null,
   "metadata": {},
   "outputs": [],
   "source": [
    "xT *= 100\n",
    "xT"
   ]
  },
  {
   "cell_type": "code",
   "execution_count": null,
   "metadata": {},
   "outputs": [],
   "source": [
    "x"
   ]
  },
  {
   "cell_type": "markdown",
   "metadata": {},
   "source": [
    "С копированием:"
   ]
  },
  {
   "cell_type": "code",
   "execution_count": null,
   "metadata": {},
   "outputs": [],
   "source": [
    "xT_clone = x.T.clone()\n",
    "xT_clone.shape, xT_clone"
   ]
  },
  {
   "cell_type": "code",
   "execution_count": null,
   "metadata": {},
   "outputs": [],
   "source": [
    "xT_clone == xT"
   ]
  },
  {
   "cell_type": "code",
   "execution_count": null,
   "metadata": {},
   "outputs": [],
   "source": [
    "xT_clone *= 100\n",
    "xT_clone"
   ]
  },
  {
   "cell_type": "code",
   "execution_count": null,
   "metadata": {},
   "outputs": [],
   "source": [
    "x"
   ]
  },
  {
   "cell_type": "markdown",
   "metadata": {},
   "source": [
    "Доступны и более сложные операции над размерностями.\n",
    "\n",
    "`permute()`:"
   ]
  },
  {
   "cell_type": "code",
   "execution_count": null,
   "metadata": {},
   "outputs": [],
   "source": [
    "x = torch.randn(3, 64, 256)\n",
    "x.shape"
   ]
  },
  {
   "cell_type": "code",
   "execution_count": null,
   "metadata": {},
   "outputs": [],
   "source": [
    "x.permute(1, 2, 0).shape"
   ]
  },
  {
   "cell_type": "code",
   "execution_count": null,
   "metadata": {},
   "outputs": [],
   "source": [
    "x.transpose(1, 2).shape"
   ]
  },
  {
   "cell_type": "markdown",
   "metadata": {},
   "source": [
    "`view()`:"
   ]
  },
  {
   "cell_type": "code",
   "execution_count": null,
   "metadata": {},
   "outputs": [],
   "source": [
    "x = torch.randn(3, 64, 256)\n",
    "x.shape"
   ]
  },
  {
   "cell_type": "code",
   "execution_count": null,
   "metadata": {},
   "outputs": [],
   "source": [
    "x.view(3, 256, 64).shape"
   ]
  },
  {
   "cell_type": "code",
   "execution_count": null,
   "metadata": {},
   "outputs": [],
   "source": [
    "x.view(3, -1).shape"
   ]
  },
  {
   "cell_type": "code",
   "execution_count": null,
   "metadata": {},
   "outputs": [],
   "source": [
    "x.view(-1).shape"
   ]
  },
  {
   "cell_type": "code",
   "execution_count": null,
   "metadata": {},
   "outputs": [],
   "source": [
    "z = x.view(-1)\n",
    "z"
   ]
  },
  {
   "cell_type": "code",
   "execution_count": null,
   "metadata": {},
   "outputs": [],
   "source": [
    "z *= 0"
   ]
  },
  {
   "cell_type": "code",
   "execution_count": null,
   "metadata": {},
   "outputs": [],
   "source": [
    "z"
   ]
  },
  {
   "cell_type": "code",
   "execution_count": null,
   "metadata": {},
   "outputs": [],
   "source": [
    "x = torch.randn(3, 64, 256)"
   ]
  },
  {
   "cell_type": "code",
   "execution_count": null,
   "metadata": {},
   "outputs": [],
   "source": [
    "y = x[:,:3,:3]"
   ]
  },
  {
   "cell_type": "code",
   "execution_count": null,
   "metadata": {},
   "outputs": [],
   "source": [
    "print(y)"
   ]
  },
  {
   "cell_type": "code",
   "execution_count": null,
   "metadata": {},
   "outputs": [],
   "source": [
    "print(id(y.data))\n",
    "print(y.view(-1))\n"
   ]
  },
  {
   "cell_type": "code",
   "execution_count": null,
   "metadata": {},
   "outputs": [],
   "source": [
    "z = y.reshape(-1)\n",
    "print(id(z.data))\n",
    "print(z)"
   ]
  },
  {
   "cell_type": "markdown",
   "metadata": {
    "tags": []
   },
   "source": [
    "#### Задание:"
   ]
  },
  {
   "cell_type": "markdown",
   "metadata": {},
   "source": [
    "* Создать тензор размером `1x3x224x224` (имитируем батч из одной картинки с 3 каналами RGB размером `224х224`)\n",
    "    * Все значения в тензоре = `0.5`\n",
    "* Выполнить нормализацию через mean / std из датасета Imagenet:\n",
    "    * mean = `[0.485, 0.456, 0.406]`\n",
    "    * std = `[0.229, 0.224, 0.225]`\n",
    "* Посчитать среднее значение по каждому из 3-х каналов полученного тензора\n",
    "    * Ответ (`output`) должен иметь размерность (3,)\n",
    "\n",
    "\n",
    "NB: агрегирующие операции типа `min`/`max`/`mean`/... устроены аналогично в `numpy` и `torch`, но отличаютеся ключевым словом для уточнения размерностей:\n",
    "* в `numpy` - `axis`\n",
    "* в `torch` - `dim`"
   ]
  },
  {
   "cell_type": "code",
   "execution_count": null,
   "metadata": {},
   "outputs": [],
   "source": [
    "# YOUR CODE HERE\n",
    "\n",
    "x    = torch.ones(1,3,224,224)*0.5\n",
    "mean = torch.tensor([0.485, 0.456, 0.406]).view(1,-1,1,1)\n",
    "std  = torch.tensor([0.229, 0.224, 0.225]).view(1,-1,1,1)\n",
    "\n",
    "x = (x - mean)/std\n",
    "output = torch.mean(x, dim=(2,3)).view(-1)\n",
    "# END OF YOUR CODE"
   ]
  },
  {
   "cell_type": "code",
   "execution_count": null,
   "metadata": {},
   "outputs": [],
   "source": [
    "expected_output = torch.Tensor([0.0655, 0.1964, 0.4178])\n",
    "torch.testing.assert_allclose(output, expected_output)"
   ]
  },
  {
   "cell_type": "markdown",
   "metadata": {
    "tags": [],
    "toc-hr-collapsed": true
   },
   "source": [
    "### 1.2. CPU <-> GPU"
   ]
  },
  {
   "cell_type": "markdown",
   "metadata": {},
   "source": [
    "`CUDA` - это библиотека для вычислений на графических ускорителях (от NVidia).\n",
    "`torch` умеет работать с GPU, но для этого в системе должны быть установлены совместимые версии `torch` / `cudatoolkit`. \n",
    "Подробнее можно почитать на [официальном сайте](https://pytorch.org/get-started/locally/)."
   ]
  },
  {
   "cell_type": "markdown",
   "metadata": {},
   "source": [
    "#### Получение информации о доступных \"девайсах\""
   ]
  },
  {
   "cell_type": "code",
   "execution_count": null,
   "metadata": {},
   "outputs": [],
   "source": [
    "torch.cuda.is_available()"
   ]
  },
  {
   "cell_type": "code",
   "execution_count": null,
   "metadata": {},
   "outputs": [],
   "source": [
    "torch.cuda.device_count()"
   ]
  },
  {
   "cell_type": "code",
   "execution_count": null,
   "metadata": {},
   "outputs": [],
   "source": [
    "device_alias = \"cuda:0\"\n",
    "# device_alias = \"cpu\""
   ]
  },
  {
   "cell_type": "code",
   "execution_count": null,
   "metadata": {},
   "outputs": [],
   "source": [
    "torch.cuda.get_device_name(device_alias)"
   ]
  },
  {
   "cell_type": "code",
   "execution_count": null,
   "metadata": {},
   "outputs": [],
   "source": [
    "device = torch.device(device_alias)"
   ]
  },
  {
   "cell_type": "code",
   "execution_count": null,
   "metadata": {},
   "outputs": [],
   "source": [
    "device"
   ]
  },
  {
   "cell_type": "markdown",
   "metadata": {},
   "source": [
    "#### Перемещение тензоров между девайсами: `.to(...)`"
   ]
  },
  {
   "cell_type": "code",
   "execution_count": null,
   "metadata": {},
   "outputs": [],
   "source": [
    "data_pt = torch.randn(8, 8)\n",
    "data_pt.device"
   ]
  },
  {
   "cell_type": "code",
   "execution_count": null,
   "metadata": {},
   "outputs": [],
   "source": [
    "data_pt = data_pt.to(device)\n",
    "data_pt.device"
   ]
  },
  {
   "cell_type": "code",
   "execution_count": null,
   "metadata": {},
   "outputs": [],
   "source": [
    "a = data_pt.to(torch.device(\"cpu\"))\n",
    "b = data_pt.to(\"cpu\")\n",
    "c = data_pt.cpu()\n",
    "\n",
    "a.device, b.device, c.device"
   ]
  },
  {
   "cell_type": "markdown",
   "metadata": {},
   "source": [
    "#### Скорость вычислений"
   ]
  },
  {
   "cell_type": "markdown",
   "metadata": {},
   "source": [
    "`8х8` @ `8x8`"
   ]
  },
  {
   "cell_type": "code",
   "execution_count": null,
   "metadata": {},
   "outputs": [],
   "source": [
    "data_pt = torch.randn(8, 8)\n",
    "data_pt.device"
   ]
  },
  {
   "cell_type": "code",
   "execution_count": null,
   "metadata": {},
   "outputs": [],
   "source": [
    "%timeit data_pt @ data_pt"
   ]
  },
  {
   "cell_type": "code",
   "execution_count": null,
   "metadata": {},
   "outputs": [],
   "source": [
    "data_pt = data_pt.to(device)\n",
    "data_pt.device"
   ]
  },
  {
   "cell_type": "code",
   "execution_count": null,
   "metadata": {},
   "outputs": [],
   "source": [
    "data_pt @ data_pt;"
   ]
  },
  {
   "cell_type": "code",
   "execution_count": null,
   "metadata": {},
   "outputs": [],
   "source": [
    "%timeit data_pt @ data_pt"
   ]
  },
  {
   "cell_type": "markdown",
   "metadata": {},
   "source": [
    "`64х64` @ `64x64`"
   ]
  },
  {
   "cell_type": "code",
   "execution_count": null,
   "metadata": {},
   "outputs": [],
   "source": [
    "data_pt = torch.randn(64, 64)\n",
    "data_pt.device"
   ]
  },
  {
   "cell_type": "code",
   "execution_count": null,
   "metadata": {},
   "outputs": [],
   "source": [
    "%timeit data_pt @ data_pt"
   ]
  },
  {
   "cell_type": "code",
   "execution_count": null,
   "metadata": {},
   "outputs": [],
   "source": [
    "data_pt = data_pt.to(device)\n",
    "data_pt.device"
   ]
  },
  {
   "cell_type": "code",
   "execution_count": null,
   "metadata": {},
   "outputs": [],
   "source": [
    "%timeit data_pt @ data_pt"
   ]
  },
  {
   "cell_type": "markdown",
   "metadata": {},
   "source": [
    "`256х256` @ `256x256`"
   ]
  },
  {
   "cell_type": "code",
   "execution_count": null,
   "metadata": {},
   "outputs": [],
   "source": [
    "data_pt = torch.randn(256, 256)\n",
    "data_pt.device"
   ]
  },
  {
   "cell_type": "code",
   "execution_count": null,
   "metadata": {},
   "outputs": [],
   "source": [
    "%timeit data_pt @ data_pt"
   ]
  },
  {
   "cell_type": "code",
   "execution_count": null,
   "metadata": {},
   "outputs": [],
   "source": [
    "data_pt = data_pt.to(device)\n",
    "data_pt.device"
   ]
  },
  {
   "cell_type": "code",
   "execution_count": null,
   "metadata": {},
   "outputs": [],
   "source": [
    "%timeit data_pt @ data_pt"
   ]
  },
  {
   "cell_type": "markdown",
   "metadata": {},
   "source": [
    "#### Объекты с разных девайсов"
   ]
  },
  {
   "cell_type": "code",
   "execution_count": null,
   "metadata": {},
   "outputs": [],
   "source": [
    "data_pt = torch.randn(3, 3)\n",
    "data_pt = data_pt.to(device)\n",
    "data_pt.device"
   ]
  },
  {
   "cell_type": "code",
   "execution_count": null,
   "metadata": {},
   "outputs": [],
   "source": [
    "data_pt.numpy()"
   ]
  },
  {
   "cell_type": "code",
   "execution_count": null,
   "metadata": {},
   "outputs": [],
   "source": [
    "data_pt.to(torch.device(\"cpu\")).numpy()"
   ]
  },
  {
   "cell_type": "markdown",
   "metadata": {},
   "source": [
    "Взаимодействовать друг с другом могут только объекты, лежащие на одном девайсе"
   ]
  },
  {
   "cell_type": "code",
   "execution_count": null,
   "metadata": {},
   "outputs": [],
   "source": [
    "data_pt_1 = torch.randn(3, 3)\n",
    "data_pt_1 = data_pt_1.to(device)\n",
    "data_pt_1.device"
   ]
  },
  {
   "cell_type": "code",
   "execution_count": null,
   "metadata": {},
   "outputs": [],
   "source": [
    "data_pt_2 = torch.randn(3, 3)\n",
    "data_pt_2 = data_pt_2#.to(\"cpu\")\n",
    "data_pt_2.device"
   ]
  },
  {
   "cell_type": "code",
   "execution_count": null,
   "metadata": {},
   "outputs": [],
   "source": [
    "data_pt_1 + data_pt_2"
   ]
  },
  {
   "cell_type": "code",
   "execution_count": null,
   "metadata": {},
   "outputs": [],
   "source": [
    "data_pt_1 + data_pt_2.to(data_pt_1.device)"
   ]
  },
  {
   "cell_type": "code",
   "execution_count": null,
   "metadata": {},
   "outputs": [],
   "source": [
    "data_pt_2.device"
   ]
  },
  {
   "cell_type": "markdown",
   "metadata": {},
   "source": [
    "#### Поддержка \"особенных\" типов на GPU"
   ]
  },
  {
   "cell_type": "markdown",
   "metadata": {},
   "source": [
    "https://docs.nvidia.com/deeplearning/tensorrt/support-matrix/index.html#hardware-precision-matrix"
   ]
  },
  {
   "cell_type": "code",
   "execution_count": null,
   "metadata": {},
   "outputs": [],
   "source": [
    "data_pt = torch.randn(3, 3).type(torch.float16).to(device)"
   ]
  },
  {
   "cell_type": "code",
   "execution_count": null,
   "metadata": {},
   "outputs": [],
   "source": [
    "data_pt + 1"
   ]
  },
  {
   "cell_type": "code",
   "execution_count": null,
   "metadata": {},
   "outputs": [],
   "source": [
    "data_pt = torch.randn(3, 3).type(torch.int8).to(device)"
   ]
  },
  {
   "cell_type": "code",
   "execution_count": null,
   "metadata": {},
   "outputs": [],
   "source": [
    "data_pt + 1"
   ]
  },
  {
   "cell_type": "markdown",
   "metadata": {},
   "source": [
    "Прекрасно, что `pytorch` умеет делать все то же, что и `numpy`.\n",
    "Но зачем он нужен, если *уже есть* `numpy`?"
   ]
  },
  {
   "cell_type": "markdown",
   "metadata": {
    "tags": []
   },
   "source": [
    "## 2. Автоматическое дифференцирование"
   ]
  },
  {
   "cell_type": "markdown",
   "metadata": {},
   "source": [
    "Вспомним, что алгебраические выражения можно интерпретировать как вычислительные графы:\n",
    "\n",
    "* $f(x) = w1 \\times x + w2 \\times y + w3 \\rightarrow $\n",
    "\n",
    "![comp_graph_03](https://i.ibb.co/f8yv1Kc/aim-seminar01-compgraphs-11-1.png)\n",
    "\n",
    "На прошлом семинаре мы считали градиенты руками, а теперь у нас есть `torch`:"
   ]
  },
  {
   "cell_type": "markdown",
   "metadata": {},
   "source": [
    "#### `.backward()`"
   ]
  },
  {
   "cell_type": "code",
   "execution_count": null,
   "metadata": {},
   "outputs": [],
   "source": [
    "def f(x, y, w1, w2, w3):\n",
    "    return w1 * x + w2 * y + w3"
   ]
  },
  {
   "cell_type": "code",
   "execution_count": null,
   "metadata": {},
   "outputs": [],
   "source": [
    "x = torch.tensor([1.])\n",
    "x.requires_grad"
   ]
  },
  {
   "cell_type": "code",
   "execution_count": null,
   "metadata": {},
   "outputs": [],
   "source": [
    "y = torch.tensor([2.])\n",
    "y.requires_grad"
   ]
  },
  {
   "cell_type": "markdown",
   "metadata": {},
   "source": [
    "Для \"включения\" градиентов у переменной, нужно об этом прямо заявить: "
   ]
  },
  {
   "cell_type": "code",
   "execution_count": null,
   "metadata": {},
   "outputs": [],
   "source": [
    "w1 = torch.tensor([0.33])\n",
    "w1.requires_grad_(True)\n",
    "w1.requires_grad"
   ]
  },
  {
   "cell_type": "code",
   "execution_count": null,
   "metadata": {},
   "outputs": [],
   "source": [
    "w2 = torch.tensor([-1.5]).requires_grad_(True)\n",
    "w2.requires_grad"
   ]
  },
  {
   "cell_type": "code",
   "execution_count": null,
   "metadata": {},
   "outputs": [],
   "source": [
    "w3 = torch.tensor([0.01], requires_grad=True)\n",
    "w3.requires_grad"
   ]
  },
  {
   "cell_type": "code",
   "execution_count": null,
   "metadata": {},
   "outputs": [],
   "source": [
    "variables = [x, y, w1, w2, w3]\n",
    "names = [\"x\", \"y\", \"w1\", \"w2\", \"w3\"]"
   ]
  },
  {
   "cell_type": "code",
   "execution_count": null,
   "metadata": {},
   "outputs": [],
   "source": [
    "print(\"name\\tval\\tgrad\")\n",
    "for n, v in zip(names, variables):\n",
    "    print(f\"{n}\\t{v.item():2.3f}\\t{v.grad}\")"
   ]
  },
  {
   "cell_type": "markdown",
   "metadata": {},
   "source": [
    "Еще раз насладимся магией автоматического дифференцирования:"
   ]
  },
  {
   "cell_type": "code",
   "execution_count": null,
   "metadata": {},
   "outputs": [],
   "source": [
    "output = f(x, y, w1, w2, w3)\n",
    "output"
   ]
  },
  {
   "cell_type": "code",
   "execution_count": null,
   "metadata": {},
   "outputs": [],
   "source": [
    "print(\"name\\tval\\tgrad\")\n",
    "for n, v in zip(names, variables):\n",
    "    print(f\"{n}\\t{v.item():2.3f}\\t{v.grad}\")"
   ]
  },
  {
   "cell_type": "code",
   "execution_count": null,
   "metadata": {},
   "outputs": [],
   "source": [
    "output.backward()"
   ]
  },
  {
   "cell_type": "code",
   "execution_count": null,
   "metadata": {},
   "outputs": [],
   "source": [
    "print(\"name\\tval\\tgrad\")\n",
    "for n, v in zip(names, variables):\n",
    "    print(f\"{n}\\t{v.item():2.3f}\\t{v.grad}\")"
   ]
  },
  {
   "cell_type": "markdown",
   "metadata": {},
   "source": [
    "Попробуем вызвать `backward()` еще раз:"
   ]
  },
  {
   "cell_type": "code",
   "execution_count": null,
   "metadata": {},
   "outputs": [],
   "source": [
    "output.backward()"
   ]
  },
  {
   "cell_type": "markdown",
   "metadata": {},
   "source": [
    "**Вопрос:** зачем может быть нужно делать `backward()` больше одного раза?"
   ]
  },
  {
   "cell_type": "code",
   "execution_count": null,
   "metadata": {},
   "outputs": [],
   "source": [
    "del output\n",
    "for var in variables:\n",
    "    var.grad = None"
   ]
  },
  {
   "cell_type": "code",
   "execution_count": null,
   "metadata": {},
   "outputs": [],
   "source": [
    "print(\"name\\tval\\tgrad\")\n",
    "for n, v in zip(names, variables):\n",
    "    print(f\"{n}\\t{v.item():2.3f}\\t{v.grad}\")"
   ]
  },
  {
   "cell_type": "code",
   "execution_count": null,
   "metadata": {},
   "outputs": [],
   "source": [
    "output = f(x, y, w1, w2, w3)\n",
    "output"
   ]
  },
  {
   "cell_type": "code",
   "execution_count": null,
   "metadata": {},
   "outputs": [],
   "source": [
    "output.backward(retain_graph=True)"
   ]
  },
  {
   "cell_type": "code",
   "execution_count": null,
   "metadata": {},
   "outputs": [],
   "source": [
    "print(\"name\\tval\\tgrad\")\n",
    "for n, v in zip(names, variables):\n",
    "    print(f\"{n}\\t{v.item():2.3f}\\t{v.grad}\")"
   ]
  },
  {
   "cell_type": "code",
   "execution_count": null,
   "metadata": {},
   "outputs": [],
   "source": [
    "output.backward()"
   ]
  },
  {
   "cell_type": "code",
   "execution_count": null,
   "metadata": {},
   "outputs": [],
   "source": [
    "print(\"name\\tval\\tgrad\")\n",
    "for n, v in zip(names, variables):\n",
    "    print(f\"{n}\\t{v.item():2.3f}\\t{v.grad}\")"
   ]
  },
  {
   "cell_type": "code",
   "execution_count": null,
   "metadata": {},
   "outputs": [],
   "source": [
    "output.backward()"
   ]
  },
  {
   "cell_type": "markdown",
   "metadata": {},
   "source": [
    "#### `torch.no_grad()`"
   ]
  },
  {
   "cell_type": "markdown",
   "metadata": {},
   "source": [
    "Данный контекст гарантирует, что во всех вычислениях внутри него будут отключены градиенты."
   ]
  },
  {
   "cell_type": "code",
   "execution_count": null,
   "metadata": {},
   "outputs": [],
   "source": [
    "x = torch.randn(64, 512, 16, 16)\n",
    "x.requires_grad_(True);"
   ]
  },
  {
   "cell_type": "code",
   "execution_count": null,
   "metadata": {},
   "outputs": [],
   "source": [
    "y = (10 * x).sum()"
   ]
  },
  {
   "cell_type": "code",
   "execution_count": null,
   "metadata": {},
   "outputs": [],
   "source": [
    "y.requires_grad"
   ]
  },
  {
   "cell_type": "code",
   "execution_count": null,
   "metadata": {},
   "outputs": [],
   "source": [
    "with torch.no_grad():\n",
    "    z = (100 * x).sum()"
   ]
  },
  {
   "cell_type": "code",
   "execution_count": null,
   "metadata": {},
   "outputs": [],
   "source": [
    "z.requires_grad"
   ]
  },
  {
   "cell_type": "code",
   "execution_count": null,
   "metadata": {},
   "outputs": [],
   "source": [
    "x.requires_grad"
   ]
  },
  {
   "cell_type": "markdown",
   "metadata": {},
   "source": [
    "Зачем это может быть нужно?\n",
    "\n",
    "Посмотрим на потребление памяти при использовании функции активации сигмоида:"
   ]
  },
  {
   "cell_type": "code",
   "execution_count": null,
   "metadata": {},
   "outputs": [],
   "source": [
    "import torch\n",
    "\n",
    "device = torch.device(\"cuda:0\")\n",
    "\n",
    "from torch.nn import Sigmoid"
   ]
  },
  {
   "cell_type": "code",
   "execution_count": null,
   "metadata": {},
   "outputs": [],
   "source": [
    "bytes_in_kilobyte = 1024\n",
    "\n",
    "def get_allocated_memory():\n",
    "    mem_MB = torch.cuda.memory_allocated(device=device) / bytes_in_kilobyte\n",
    "    return round(mem_MB, 3)\n",
    "\n",
    "def get_tensor_memory(t):\n",
    "    mem_MB = t.nelement() * t.element_size() / bytes_in_kilobyte\n",
    "    return round(mem_MB, 3)"
   ]
  },
  {
   "cell_type": "code",
   "execution_count": null,
   "metadata": {},
   "outputs": [],
   "source": [
    "torch.cuda.empty_cache()\n",
    "get_allocated_memory()"
   ]
  },
  {
   "cell_type": "code",
   "execution_count": null,
   "metadata": {},
   "outputs": [],
   "source": [
    "s = Sigmoid().to(device)\n",
    "get_allocated_memory()"
   ]
  },
  {
   "cell_type": "code",
   "execution_count": null,
   "metadata": {},
   "outputs": [],
   "source": [
    "x = torch.randn(64, 512, 16, 16).to(device)\n",
    "x.requires_grad_(True);\n",
    "get_tensor_memory(x)"
   ]
  },
  {
   "cell_type": "code",
   "execution_count": null,
   "metadata": {},
   "outputs": [],
   "source": [
    "64 * 512 * 16 * 16 * 4 / 1024"
   ]
  },
  {
   "cell_type": "code",
   "execution_count": null,
   "metadata": {},
   "outputs": [],
   "source": [
    "get_allocated_memory()"
   ]
  },
  {
   "cell_type": "code",
   "execution_count": null,
   "metadata": {},
   "outputs": [],
   "source": [
    "y = s(x).mean()\n",
    "get_tensor_memory(y)"
   ]
  },
  {
   "cell_type": "code",
   "execution_count": null,
   "metadata": {},
   "outputs": [],
   "source": [
    "get_allocated_memory()"
   ]
  },
  {
   "cell_type": "code",
   "execution_count": null,
   "metadata": {},
   "outputs": [],
   "source": [
    "y.backward()\n",
    "get_allocated_memory()"
   ]
  },
  {
   "cell_type": "markdown",
   "metadata": {},
   "source": [
    "Сделаем то же самое, но с `torch.no_grad()`:"
   ]
  },
  {
   "cell_type": "code",
   "execution_count": null,
   "metadata": {},
   "outputs": [],
   "source": [
    "# torch.cuda.empty_cache()\n",
    "get_allocated_memory()"
   ]
  },
  {
   "cell_type": "code",
   "execution_count": null,
   "metadata": {},
   "outputs": [],
   "source": [
    "s = Sigmoid().to(device)\n",
    "get_allocated_memory()"
   ]
  },
  {
   "cell_type": "code",
   "execution_count": null,
   "metadata": {},
   "outputs": [],
   "source": [
    "x = torch.randn(64, 512, 16, 16).to(device)\n",
    "x.requires_grad_(True);\n",
    "get_tensor_memory(x)"
   ]
  },
  {
   "cell_type": "code",
   "execution_count": null,
   "metadata": {},
   "outputs": [],
   "source": [
    "get_allocated_memory()"
   ]
  },
  {
   "cell_type": "code",
   "execution_count": null,
   "metadata": {},
   "outputs": [],
   "source": [
    "with torch.no_grad():\n",
    "    y = s(x).mean()\n",
    "get_tensor_memory(y)"
   ]
  },
  {
   "cell_type": "code",
   "execution_count": null,
   "metadata": {},
   "outputs": [],
   "source": [
    "get_allocated_memory()"
   ]
  },
  {
   "cell_type": "markdown",
   "metadata": {},
   "source": [
    "Почему потребление памяти уменьшилось?\n",
    "Подробнее [тут](https://medium.com/deep-learning-for-protein-design/a-comprehensive-guide-to-memory-usage-in-pytorch-b9b7c78031d3) или [тут](https://pytorch.org/tutorials/recipes/recipes/tuning_guide.html)."
   ]
  },
  {
   "cell_type": "markdown",
   "metadata": {},
   "source": [
    "## 3. Пример задачи регрессии"
   ]
  },
  {
   "cell_type": "code",
   "execution_count": null,
   "metadata": {},
   "outputs": [],
   "source": [
    "import numpy as np\n",
    "import matplotlib.pyplot as plt\n",
    "import tqdm\n",
    "import torch"
   ]
  },
  {
   "cell_type": "code",
   "execution_count": null,
   "metadata": {},
   "outputs": [],
   "source": [
    "np.random.seed(1234)\n",
    "_a = np.random.uniform(1, 5)\n",
    "_b = np.random.uniform(-3, 3)\n",
    "_c = np.random.uniform(-3, 3)\n",
    "\n",
    "num_samples = 100\n",
    "\n",
    "xs = np.random.uniform(-3, 3, size=num_samples)\n",
    "ys_clean = _a * xs ** 2 + _b * xs + _c\n",
    "ys_noise = np.random.normal(0, 1, size=len(ys_clean))\n",
    "ys = ys_clean + ys_noise\n",
    "\n",
    "plt.figure(figsize=(12, 5))\n",
    "plt.scatter(xs, ys, label=\"gt\", s=5)\n",
    "plt.xlabel(\"x\")\n",
    "plt.ylabel(\"y\")\n",
    "plt.legend()\n",
    "plt.grid(True)"
   ]
  },
  {
   "cell_type": "code",
   "execution_count": null,
   "metadata": {},
   "outputs": [],
   "source": [
    "def model(x, a, b, c):\n",
    "    return a * x ** 2 + b * x + c"
   ]
  },
  {
   "cell_type": "code",
   "execution_count": null,
   "metadata": {},
   "outputs": [],
   "source": [
    "# device = torch.device(\"cuda:0\")\n",
    "device = torch.device(\"cpu\")"
   ]
  },
  {
   "cell_type": "markdown",
   "metadata": {},
   "source": [
    "Создадим переменные `xs_device` и `ys_device`, которые будут содержать обучающие данные сразу на нужном девайсе в виде тензоров.\n",
    "\n",
    "**Вопрос:** `requires_grad=True` или `requires_grad=False`?"
   ]
  },
  {
   "cell_type": "code",
   "execution_count": null,
   "metadata": {},
   "outputs": [],
   "source": [
    "# YOUR CODE HERE\n",
    "xs_device = torch.tensor(xs, device=device, requires_grad=False)\n",
    "ys_device = torch.tensor(ys, device=device, requires_grad=False)\n",
    "# END OF YOUR CODE"
   ]
  },
  {
   "cell_type": "markdown",
   "metadata": {},
   "source": [
    "Теперь инициализируем веса `a`, `b` и `c` нормальным распределением:"
   ]
  },
  {
   "cell_type": "code",
   "execution_count": null,
   "metadata": {},
   "outputs": [],
   "source": [
    "# YOUR CODE HERE\n",
    "a = torch.randn(1, device=device, requires_grad=True)\n",
    "b = torch.randn(1, device=device, requires_grad=True)\n",
    "c = torch.randn(1, device=device, requires_grad=True)\n",
    "# END OF YOUR CODE"
   ]
  },
  {
   "cell_type": "markdown",
   "metadata": {},
   "source": [
    "Допишем рутину обучения, чтобы получить значения весов модели."
   ]
  },
  {
   "cell_type": "code",
   "execution_count": null,
   "metadata": {},
   "outputs": [],
   "source": [
    "num_epochs = 300\n",
    "lr = 1e-4\n",
    "indices = np.arange(len(xs))\n",
    "\n",
    "loss_list, a_list, b_list, c_list = [], [], [], []\n",
    "\n",
    "for epoch in tqdm.trange(num_epochs):\n",
    "    np.random.shuffle(indices)\n",
    "\n",
    "    loss_epoch = []\n",
    "    for i in indices:\n",
    "        # YOUR CODE HERE\n",
    "        x      = xs_device[i]\n",
    "        y_true = ys_device[i]\n",
    "        y_pred = model(x,a,b,c)\n",
    "        loss = (y_true - y_pred)**2\n",
    "        loss.backward()\n",
    "        # END OF YOUR CODE\n",
    "        \n",
    "        with torch.no_grad():\n",
    "            #a.data -= lr * a.grad.data\n",
    "            #b.data -= lr * b.grad.data\n",
    "            #c.data -= lr * c.grad.data\n",
    "            a -= lr * a.grad\n",
    "            b -= lr * b.grad\n",
    "            c -= lr * c.grad\n",
    "            a.grad.zero_()\n",
    "            b.grad.zero_()\n",
    "            c.grad.zero_()\n",
    "            \n",
    "        loss_epoch.append(loss.item())\n",
    "        \n",
    "    loss_list.append(np.mean(loss_epoch))\n",
    "    a_list.append(a.item())\n",
    "    b_list.append(b.item())\n",
    "    c_list.append(c.item())"
   ]
  },
  {
   "cell_type": "markdown",
   "metadata": {},
   "source": [
    "А теперь посмотрим на результаты:"
   ]
  },
  {
   "cell_type": "code",
   "execution_count": null,
   "metadata": {},
   "outputs": [],
   "source": [
    "xs_sorted = np.sort(xs)\n",
    "\n",
    "ys_pred_per_epoch = []\n",
    "for epoch in range(num_epochs):\n",
    "    a_epoch = a_list[epoch]\n",
    "    b_epoch = b_list[epoch]\n",
    "    c_epoch = c_list[epoch]\n",
    "    with torch.no_grad():\n",
    "        ys_pred_epoch = model(xs_sorted, a_epoch, b_epoch, c_epoch)\n",
    "    ys_pred_per_epoch.append(ys_pred_epoch)"
   ]
  },
  {
   "cell_type": "code",
   "execution_count": null,
   "metadata": {},
   "outputs": [],
   "source": [
    "plt.figure(figsize=(12, 5))\n",
    "plt.scatter(xs, ys, label=\"gt\", s=5, c=\"r\")\n",
    "plt.plot(xs_sorted, ys_pred_per_epoch[-1], label=\"pred\", c=\"g\")\n",
    "plt.xlabel(\"x\")\n",
    "plt.ylabel(\"y\")\n",
    "plt.legend()\n",
    "plt.grid(True)\n",
    "plt.show()"
   ]
  },
  {
   "cell_type": "markdown",
   "metadata": {},
   "source": [
    "Если есть нужные зависимости у `jupyterlab` (**осторожно, может все сломать**), можно сделать интерактивно:"
   ]
  },
  {
   "cell_type": "code",
   "execution_count": null,
   "metadata": {},
   "outputs": [],
   "source": [
    "#!pip install ipympl"
   ]
  },
  {
   "cell_type": "code",
   "execution_count": null,
   "metadata": {},
   "outputs": [],
   "source": [
    "%matplotlib ipympl\n",
    "from ipywidgets import *\n",
    "import numpy as np\n",
    "import matplotlib.pyplot as plt\n",
    "\n",
    "x = xs_sorted\n",
    "\n",
    "def f(x, i):\n",
    "    return model(x, a_list[i], b_list[i], c_list[i])\n",
    "\n",
    "fig = plt.figure(figsize=(12, 5))\n",
    "ax = fig.add_subplot(1, 1, 1)\n",
    "ax.set_xlabel(\"x\")\n",
    "ax.set_ylabel(\"y\")\n",
    "\n",
    "ax.scatter(xs, ys, label=\"gt\", s=5, c=\"r\")\n",
    "line, = ax.plot(x, f(x, i), label=\"pred\", c=\"g\")\n",
    "\n",
    "ax.legend()\n",
    "ax.grid(True)\n",
    "\n",
    "\n",
    "def update(i=0):\n",
    "    line.set_ydata(f(x, i))\n",
    "    fig.canvas.draw_idle()\n",
    "    \n",
    "interact(update, i=(0,num_epochs-1,1));"
   ]
  },
  {
   "cell_type": "code",
   "execution_count": null,
   "metadata": {},
   "outputs": [],
   "source": [
    "plt.figure(figsize=(12, 5))\n",
    "\n",
    "plt.subplot(1, 2, 1)\n",
    "plt.plot(loss_list)\n",
    "plt.xlabel(\"epoch\")\n",
    "plt.ylabel(\"loss\")\n",
    "plt.grid(True)\n",
    "plt.yscale(\"log\")\n",
    "\n",
    "plt.subplot(1, 2, 2)\n",
    "for p_name, p_gt, p_list, color in zip((\"a\", \"b\", \"c\"), (_a, _b, _c), (a_list, b_list, c_list), (\"r\", \"g\", \"b\")):\n",
    "    plt.hlines(y=p_gt, xmin=0, xmax=num_epochs, linestyles=\"dashed\", colors=color)\n",
    "    plt.scatter(range(len(p_list)), p_list, label=p_name, s=1, c=color)\n",
    "plt.xlabel(\"epoch\")\n",
    "plt.ylabel(\"param value\")\n",
    "plt.legend()\n",
    "plt.grid(True)\n",
    "\n",
    "plt.show()"
   ]
  },
  {
   "cell_type": "markdown",
   "metadata": {},
   "source": [
    "**Вопрос:** если бы это была \"настоящая\" задача, что следовало бы изменить в данном пайплайне?"
   ]
  },
  {
   "cell_type": "markdown",
   "metadata": {},
   "source": [
    "## 4. Переопределение `backward`"
   ]
  },
  {
   "cell_type": "markdown",
   "metadata": {
    "id": "g616ocbHv78t"
   },
   "source": [
    "Что, если нам хочется релизовать кстомный градиент для произвольной функции. \n",
    "\n",
    "Зачем?\n",
    "\n",
    " - Мы можем знать лучший способ посчитать градиент, чем делать бэкпроп для суперпозиции элементарных функций\n",
    " - Можем реализовать численно более устойчивый метод\n",
    " - Можем использовать функции из внешних библиотек\n",
    " - Использовать недифференцируемые функции?.."
   ]
  },
  {
   "cell_type": "markdown",
   "metadata": {
    "id": "nkYTgy6ZO_Ru"
   },
   "source": [
    "Рассмотрим сигмоиду:\n",
    "\n",
    "$$ \n",
    "  \\sigma(x) = \\frac{1}{1+e^{-x}}\n",
    "$$\n",
    "\n",
    "Если честно распишем суперпозицию функций, то получим:\n",
    "\n",
    "$$\n",
    "  \\sigma(x) = f_1 \\odot f_2  \\odot f_3 \\odot f_4(x), where \n",
    "$$\n",
    "\n",
    "$$\n",
    "f_1 = \\frac{1}{u}, f_2 = 1 + u, f_3 = \\exp(u), f_4 = -u\n",
    "$$\n",
    "\n",
    "Тогда:\n",
    "\n",
    "$$\n",
    "\\frac{\\partial \\sigma}{\\partial x} = \\frac{\\partial \\sigma}{\\partial f_2}\\frac{\\partial f_2}{\\partial f_3}\n",
    "\\frac{\\partial f_3}{\\partial f_4}\n",
    "\\frac{\\partial f_4}{\\partial x}\n",
    "$$\n",
    "\n",
    "Но зная как устроена производная можно упростить:\n",
    "\n",
    "$$\n",
    "\\frac{\\partial \\sigma}{\\partial x} = \\sigma(x)(1 - \\sigma(x))\n",
    "$$"
   ]
  },
  {
   "cell_type": "markdown",
   "metadata": {
    "id": "DRpFQBmuR-V_"
   },
   "source": [
    "Вручную задать градиени функции в библиотеке PyTorch можно создав дочерний класс от [`torch.autograd.Function`](https://pytorch.org/docs/stable/notes/extending.html#extending-torch-autograd).\n",
    "\n",
    "**NB**: Для того, чтобы сделать `backward()`, требуется знать результат `forward()`. Для этого у переменной контекста есть метод [`save_for_backward()`](https://pytorch.org/docs/stable/generated/torch.autograd.function.FunctionCtx.save_for_backward.html)."
   ]
  },
  {
   "cell_type": "code",
   "execution_count": null,
   "metadata": {
    "executionInfo": {
     "elapsed": 244,
     "status": "ok",
     "timestamp": 1631815233191,
     "user": {
      "displayName": "Filipp Nikitin",
      "photoUrl": "https://lh3.googleusercontent.com/a-/AOh14Gib7R6zFSdJ1Mn4MWbQTRjNvdPBqipg3uQtaNBFNg=s64",
      "userId": "00003629133353694743"
     },
     "user_tz": -180
    },
    "id": "okxelJTDO9_L"
   },
   "outputs": [],
   "source": [
    "class MySigmoid(torch.autograd.Function):\n",
    "    @staticmethod\n",
    "    def forward(ctx, x):\n",
    "        # YOUR CODE HERE\n",
    "        \n",
    "        # val = ...\n",
    "        \n",
    "        # END OF YOUR CODE\n",
    "        return val\n",
    "    \n",
    "    @staticmethod\n",
    "    def backward(ctx, grad_output):\n",
    "        # YOUR CODE HERE\n",
    "        \n",
    "        # val, = ...\n",
    "        # grad = ...\n",
    "        \n",
    "        # END OF YOUR CODE\n",
    "        return grad"
   ]
  },
  {
   "cell_type": "code",
   "execution_count": null,
   "metadata": {
    "executionInfo": {
     "elapsed": 211,
     "status": "ok",
     "timestamp": 1631815238628,
     "user": {
      "displayName": "Filipp Nikitin",
      "photoUrl": "https://lh3.googleusercontent.com/a-/AOh14Gib7R6zFSdJ1Mn4MWbQTRjNvdPBqipg3uQtaNBFNg=s64",
      "userId": "00003629133353694743"
     },
     "user_tz": -180
    },
    "id": "n89TIozkVt27"
   },
   "outputs": [],
   "source": [
    "from torch.autograd import gradcheck"
   ]
  },
  {
   "cell_type": "code",
   "execution_count": null,
   "metadata": {
    "colab": {
     "base_uri": "https://localhost:8080/"
    },
    "executionInfo": {
     "elapsed": 227,
     "status": "ok",
     "timestamp": 1631815280552,
     "user": {
      "displayName": "Filipp Nikitin",
      "photoUrl": "https://lh3.googleusercontent.com/a-/AOh14Gib7R6zFSdJ1Mn4MWbQTRjNvdPBqipg3uQtaNBFNg=s64",
      "userId": "00003629133353694743"
     },
     "user_tz": -180
    },
    "id": "42MVi8npWlAR",
    "outputId": "15653e25-a437-4e4b-b093-5c610ee3e56f"
   },
   "outputs": [],
   "source": [
    "sigmoid = MySigmoid.apply\n",
    "x = torch.rand(2, requires_grad=True)\n",
    "print(gradcheck(sigmoid, x, eps=1e-4, atol=1e-3))\n",
    "\n",
    "# be sure to use double for better approximation\n",
    "x = torch.rand(2, requires_grad=True).double()\n",
    "print(gradcheck(sigmoid, x, eps=1e-6, atol=1e-4))"
   ]
  },
  {
   "cell_type": "markdown",
   "metadata": {
    "id": "aXYgzHcz7E_1"
   },
   "source": [
    "PyTorch умеет считать матрицу Якоби или матрицу Гессе для заданной функции."
   ]
  },
  {
   "cell_type": "code",
   "execution_count": null,
   "metadata": {
    "executionInfo": {
     "elapsed": 229,
     "status": "ok",
     "timestamp": 1631815491399,
     "user": {
      "displayName": "Filipp Nikitin",
      "photoUrl": "https://lh3.googleusercontent.com/a-/AOh14Gib7R6zFSdJ1Mn4MWbQTRjNvdPBqipg3uQtaNBFNg=s64",
      "userId": "00003629133353694743"
     },
     "user_tz": -180
    },
    "id": "a65TCapsZBlf"
   },
   "outputs": [],
   "source": [
    "from torch.autograd.functional import hessian, jacobian"
   ]
  },
  {
   "cell_type": "code",
   "execution_count": null,
   "metadata": {
    "colab": {
     "base_uri": "https://localhost:8080/"
    },
    "executionInfo": {
     "elapsed": 246,
     "status": "ok",
     "timestamp": 1631815519585,
     "user": {
      "displayName": "Filipp Nikitin",
      "photoUrl": "https://lh3.googleusercontent.com/a-/AOh14Gib7R6zFSdJ1Mn4MWbQTRjNvdPBqipg3uQtaNBFNg=s64",
      "userId": "00003629133353694743"
     },
     "user_tz": -180
    },
    "id": "nS-DSoplZ6E_",
    "outputId": "db8a907c-8365-451f-d6f0-d1d186a54d97"
   },
   "outputs": [],
   "source": [
    "jacobian(sigmoid, x)"
   ]
  },
  {
   "cell_type": "code",
   "execution_count": null,
   "metadata": {
    "executionInfo": {
     "elapsed": 215,
     "status": "ok",
     "timestamp": 1631815472226,
     "user": {
      "displayName": "Filipp Nikitin",
      "photoUrl": "https://lh3.googleusercontent.com/a-/AOh14Gib7R6zFSdJ1Mn4MWbQTRjNvdPBqipg3uQtaNBFNg=s64",
      "userId": "00003629133353694743"
     },
     "user_tz": -180
    },
    "id": "z_nXiJsFXoDR"
   },
   "outputs": [],
   "source": [
    "def sum_sigmoid(x):\n",
    "    return torch.sum(sigmoid(x))"
   ]
  },
  {
   "cell_type": "code",
   "execution_count": null,
   "metadata": {},
   "outputs": [],
   "source": [
    "hessian(sum_sigmoid, x)"
   ]
  },
  {
   "cell_type": "markdown",
   "metadata": {
    "id": "vLPPlL6Sj39B"
   },
   "source": [
    "## Итоги\n",
    "\n",
    "* Узнали, что такое `pytorch` и как в нем работать с тензорами\n",
    "* Немного погрели GPU, запустив вычисления на нем\n",
    "* Решили пример задачи, используя только библиотеку `pytorch`\n",
    "* Написали собственную реализацию сигмоидальной нелинейности"
   ]
  },
  {
   "cell_type": "markdown",
   "metadata": {},
   "source": [
    "Что еще почитать:\n",
    "* [A gentle introduction to `torch.autograd`](https://pytorch.org/tutorials/beginner/blitz/autograd_tutorial.html)\n",
    "* [Extending pytorch](https://pytorch.org/docs/stable/notes/extending.html#extending-torch-autograd)"
   ]
  },
  {
   "cell_type": "markdown",
   "metadata": {},
   "source": [
    "В следующий раз: \n",
    "* (наконец-то) нейросети на pytorch"
   ]
  },
  {
   "cell_type": "code",
   "execution_count": null,
   "metadata": {},
   "outputs": [],
   "source": [
    "import torch\n",
    "import torch.nn as nn\n",
    "\n",
    "class CustomSigmoidFunction(torch.autograd.Function):\n",
    "    @staticmethod\n",
    "    def forward(ctx, x):\n",
    "        # Save the input for the backward pass\n",
    "        ctx.save_for_backward(x)\n",
    "        # Compute the sigmoid output\n",
    "        output = 1 / (1 + torch.exp(-x))\n",
    "        return output\n",
    "\n",
    "    @staticmethod\n",
    "    def backward(ctx, grad_output):\n",
    "        # Retrieve the input saved in the forward pass\n",
    "        x, = ctx.saved_tensors\n",
    "        # Compute the sigmoid output again\n",
    "        sigmoid_x = 1 / (1 + torch.exp(-x))\n",
    "        # Compute the gradient of the sigmoid function\n",
    "        grad_input = grad_output * sigmoid_x * (1 - sigmoid_x)\n",
    "        return grad_input\n",
    "\n",
    "class CustomSigmoid(nn.Module):\n",
    "    def __init__(self):\n",
    "        super(CustomSigmoid, self).__init__()\n",
    "\n",
    "    def forward(self, x):\n",
    "        return CustomSigmoidFunction.apply(x)\n",
    "\n",
    "# Example usage\n",
    "if __name__ == \"__main__\":\n",
    "    model = CustomSigmoid()\n",
    "    input_tensor = torch.tensor([0.0, 2.0, -2.0], requires_grad=True)\n",
    "    output_tensor = model(input_tensor)\n",
    "    print(f\"Output: {output_tensor}\")\n",
    "\n",
    "    # Perform a backward pass\n",
    "    output_tensor.sum().backward()\n",
    "    print(f\"Gradients: {input_tensor.grad}\")"
   ]
  }
 ],
 "metadata": {
  "accelerator": "GPU",
  "colab": {
   "authorship_tag": "ABX9TyM3x5e0hXQ/KRZ2lfc2ew+0",
   "name": "02. PyTorch autograd (classwork).ipynb",
   "provenance": [
    {
     "file_id": "1ZysOsvyIEv_yWYw9vvt8yWt5Q0MgRA57",
     "timestamp": 1631790599254
    }
   ]
  },
  "kernelspec": {
   "display_name": "Python 3 (ipykernel)",
   "language": "python",
   "name": "python3"
  },
  "language_info": {
   "codemirror_mode": {
    "name": "ipython",
    "version": 3
   },
   "file_extension": ".py",
   "mimetype": "text/x-python",
   "name": "python",
   "nbconvert_exporter": "python",
   "pygments_lexer": "ipython3",
   "version": "3.8.16"
  }
 },
 "nbformat": 4,
 "nbformat_minor": 4
}
